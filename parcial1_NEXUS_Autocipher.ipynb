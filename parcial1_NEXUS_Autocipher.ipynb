{
  "nbformat": 4,
  "nbformat_minor": 0,
  "metadata": {
    "colab": {
      "provenance": [],
      "include_colab_link": true
    },
    "kernelspec": {
      "name": "python3",
      "display_name": "Python 3"
    },
    "language_info": {
      "name": "python"
    }
  },
  "cells": [
    {
      "cell_type": "markdown",
      "metadata": {
        "id": "view-in-github",
        "colab_type": "text"
      },
      "source": [
        "<a href=\"https://colab.research.google.com/github/ronaldbeja/Artificial-intelligence/blob/main/parcial1_NEXUS_Autocipher.ipynb\" target=\"_parent\"><img src=\"https://colab.research.google.com/assets/colab-badge.svg\" alt=\"Open In Colab\"/></a>"
      ]
    },
    {
      "cell_type": "markdown",
      "source": [
        "#INICIALIZACIONES\n"
      ],
      "metadata": {
        "id": "5Sx7AKeVchR6"
      }
    },
    {
      "cell_type": "code",
      "source": [
        "import pandas as pd\n",
        "import re\n",
        "from statistics import mode\n",
        "import itertools\n",
        "Alfabeto=\"abcdefghijklmnopqrstuvwxyz\"\n",
        "abecedario='ABCDEFGHIJKLMNOPQRSTUVWXYZ'\n",
        "Texto=\"ZC HDZQ TR ZDYTZIR GQSTZIR ZQLTGTIR SEZZDHGQL EA NMQ DLZTQR EA NMQ HELNM FQHQLDU EA NMQ AQUTY UQFTEHR DHG UECDU RQLODHN NE NMQ NLIQ QZVQLEL ZDLSIR DILQUTIR ADNMQL NE D ZILGQLQG REH MIRBDHG NE D ZILGQLQG KTAQ DHG T KTUU MDOQ ZC OQHFQDHSQ TH NMTR UTAQ EL NMQ HQYN\"\n",
        "Texto=Texto.lower()\n",
        "\n"
      ],
      "metadata": {
        "id": "yTqRhP-dgBLM"
      },
      "execution_count": null,
      "outputs": []
    },
    {
      "cell_type": "code",
      "source": [
        "def Letrafreq(Alfabeto,Texto):\n",
        "# result cuenta la frecuencia de las letras en el texto.\n",
        "  result = {Alfabeto[i]: len(re.findall(Alfabeto[i],Texto )) for i in range(0, len(Alfabeto), 1)} \n",
        "\n",
        "# i encuentra el valor de la repeticion maxima\n",
        "  i=max(result.values())\n",
        "\n",
        "# e encuentra la el nombre \"key\" de i\n",
        "  e = list(result.keys())[list(result.values()).index(i)]   \n",
        "\n",
        "#remplazamos dicha clave por la letra E en el texto\n",
        "  nTex1=re.sub(e, 'E', Texto)                                 \n",
        "\n",
        "  return nTex1"
      ],
      "metadata": {
        "id": "XipQYFlke8oW"
      },
      "execution_count": null,
      "outputs": []
    },
    {
      "cell_type": "code",
      "source": [
        "#encontramos la secuencia de 3 letras que mas se repiten, y terminan en la E\n",
        "\"\"\"se encuentra el trigrama que mas se repite en el texto segun la literaruta\"\"\"\n",
        "\n",
        "def Patron(Texto):\n",
        "\n",
        "  # se busca el patron en el texto\n",
        "  pattern = '\\D\\DE'\n",
        "  x=re.findall(pattern, Texto)\n",
        "  REP = mode(x)\n",
        "\n",
        "  #sabemos que la posicion 0 y 1 correspnden a T H    \n",
        "  Texto=re.sub(REP[0], 'T',Texto)\n",
        "  Texto=re.sub(REP[1], 'H', Texto)\n",
        "\n",
        "  return Texto"
      ],
      "metadata": {
        "id": "gTQ8TzUrgmVU"
      },
      "execution_count": null,
      "outputs": []
    },
    {
      "cell_type": "code",
      "source": [
        "# se busca algunos conectores en el texto, se conoce la letra 'T' y 'TO' es un conector frecuente. \n",
        "\n",
        "def TO(Texto):\n",
        "\n",
        "  #convertimos a una lista todo el texto \n",
        "  Palabras=re.split(' ', Texto)\n",
        "\n",
        "  # en Utiles se gurdan todos los bigramas que empiecen por T.\n",
        "  Utiles=[]\n",
        "\n",
        "  for i in range(0, len(Palabras), 1):  # recore todo el texto\n",
        "    T=Palabras[i]\n",
        "    if T[0]=='T':                       # toma las palabras que empiezan por T\n",
        "      if len(T)==2:                     # solo deja las palabras de dos letras\n",
        "        M=0\n",
        "        for e in range(0, len(T), 1):   # toma las palabras que tengan una minuscula \n",
        "          if T[e].isupper()==False:\n",
        "            M=M+1\n",
        "          if M>=1:\n",
        "            Utiles.append(Palabras[i])\n",
        "\n",
        "  #ahora Eliminamos las palabras repetidas y dejamos solo 1\n",
        "  unique = []\n",
        "  [unique.append(word) for word in Utiles if word not in unique] # elimina de la lista las palabras que se repiten \n",
        "  nueva_letra = unique[0]                                        # y solo deja una, y luego se reemplaza \n",
        "  Texto=re.sub(nueva_letra[1], 'O', Texto)                       # hace lo mismo pero con la 'O'\n",
        "\n",
        "  return Texto\n",
        "  "
      ],
      "metadata": {
        "id": "vsyWiyf4hyUN"
      },
      "execution_count": null,
      "outputs": []
    },
    {
      "cell_type": "code",
      "source": [
        "# se busca algunos conectores en el texto, se conoce la letra 'O' y 'OF' es un conector frecuente. \n",
        "\n",
        "def OF(Texto):\n",
        "\n",
        "  #convertimos a una lista todo el texto \n",
        "  Palabras=re.split(' ', Texto)\n",
        "\n",
        "  Utiles=[]\n",
        "\n",
        "  for i in range(0, len(Palabras), 1):          # recorre todo el texto\n",
        "    T=Palabras[i]\n",
        "    \n",
        "    if T[0]=='O':                               # identifica que la palabra inicie con una O mayucula\n",
        "      if len(T)==2:                             # indica que debe ser minimo dos letras \n",
        "        M=0\n",
        "      \n",
        "        for e in range(0, len(T), 1):           # toma las palabras que tengan una minuscula\n",
        "          if T[e].isupper()==False:\n",
        "            M=M+1\n",
        "          if M>=1:\n",
        "            Utiles.append(Palabras[i])\n",
        "\n",
        "  #ahora Eliminamos las palabras repetidas y dejamos solo 1\n",
        "  nueva_letra = mode(Utiles)                    # toma solo la que mas se repite (y suponemos que es OF)\n",
        "  Texto=re.sub(nueva_letra[1], 'F', Texto)\n",
        "\n",
        "  return Texto\n"
      ],
      "metadata": {
        "id": "wDpWHVbMi_mR"
      },
      "execution_count": null,
      "outputs": []
    },
    {
      "cell_type": "code",
      "source": [
        "# aqui se empieza a buscar la primera palabra en el texto \n",
        "\n",
        "def THE(Texto):\n",
        "  #convertimos a una lista todo el texto \n",
        "  Palabras=re.split(' ', Texto)\n",
        "  \n",
        "  #ahora tomamos solo las palabras que tienen mas de 3 mayusculas y son difetentes de THE\n",
        "  #y no tienen una largo mayor igual a 6 \n",
        "\n",
        "  Utiles=[]\n",
        "  for i in range(0, len(Palabras), 1):\n",
        "    T=Palabras[i]\n",
        "    \n",
        "    if len(T)<=6:\n",
        "      M=0\n",
        "    \n",
        "      if T!=\"THE\":\n",
        "        for e in range(0, len(T), 1):\n",
        "          if T[e].isupper()==True:\n",
        "            M=M+1\n",
        "          if M>=3:\n",
        "            Utiles.append(Palabras[i])\n",
        "  \n",
        "  #ahora Eliminamos las palabras repetidas y dejamos solo 1\n",
        "  unique = []\n",
        "  [unique.append(word) for word in Utiles if word not in unique]\n",
        "  \n",
        "  return unique"
      ],
      "metadata": {
        "id": "yRdPypfQjyJA"
      },
      "execution_count": null,
      "outputs": []
    },
    {
      "cell_type": "code",
      "source": [
        "# utilizamos itertools para determinar las diferentes combinaciones del abecedario en terna\n",
        "\n",
        "def Combinaciones(Alfabeto):\n",
        "  #definimos lo que utilizaremso \n",
        "  SOS= [char for char in (Alfabeto)]\n",
        "  SOS2 = [char for char in (Alfabeto)]\n",
        "  SOS1=[char for char in (Alfabeto)]\n",
        "  SOS3=[SOS,SOS1,SOS2]\n",
        "  b=list(itertools.product(*SOS3))\n",
        "  c=[]\n",
        "  for k1 in b:\n",
        "    myword=''.join(k1)\n",
        "    c.append(myword)\n",
        "\n",
        "  cern=[]\n",
        "\n",
        "  for con in (range(0,len(c))):\n",
        "    ternera = [char for char in (c[con])]\n",
        "    cern.append(ternera)\n",
        "\n",
        "  return(cern)\n"
      ],
      "metadata": {
        "id": "j0J5zhlRkczw"
      },
      "execution_count": null,
      "outputs": []
    },
    {
      "cell_type": "code",
      "source": [
        "# se define el dataframe con las diferentes combinaciones encontradas en la anterior funcion\n",
        "\n",
        "def Dataframe(unique,combinaciones):\n",
        "  Alfabeto=\"ABCDEFGHIJKLMNOPQRSTUVWXYZ\"\n",
        "  PALABRA1= unique\n",
        "  df1=pd.DataFrame ()\n",
        "  \n",
        "  for j in range(0,len(PALABRA1)):\n",
        "    NL=[]\n",
        "    \n",
        "    for i in (range(0,len(combinaciones))):       # recorremos toda la lista de combinaciones \n",
        "        \n",
        "        XZ=combinaciones[i]                       # tomamos el elemento 'i' de la lista combinaciones\n",
        "        NEW = PALABRA1[j]                         # tomamos el elemento 'j' de la lsita PALABRA1 \n",
        "        \n",
        "        p=0\n",
        "        n=0\n",
        "        \n",
        "        for tt in (range(0,len(NEW))):            # busca minusculas en cada letra del elemento 'j' de la lista PALABRA1\n",
        "            \n",
        "            if NEW[tt].islower()==True:           \n",
        "              NEW=re.sub(NEW[tt], XZ[p], NEW)\n",
        "              \n",
        "              p=p+1\n",
        "              \n",
        "        NL.append(NEW)                            # se adiciona la nueva palabra \n",
        "    df1[j] = pd.DataFrame (NL)                    # en la columna 'j' se añade todas las combinaciones de la primera palabra\n",
        "  \n",
        "  # se identifica cuantas columnas tiene y se nombran con una letra del alfabeto en mayuscula \n",
        "  columnas=[]\n",
        "  for n in range(0,len(df1.columns)):\n",
        "    columnas.append(Alfabeto[n])\n",
        "  df1.columns=columnas\n",
        "  \n",
        "  return df1"
      ],
      "metadata": {
        "id": "QDXDwSwmlPay"
      },
      "execution_count": null,
      "outputs": []
    },
    {
      "cell_type": "code",
      "execution_count": null,
      "metadata": {
        "id": "_eEyDMZ3b4AR"
      },
      "outputs": [],
      "source": [
        "# crea un df con la lista de palabras ingles encontradas en el enlace\n",
        "\n",
        "def PalabrasDic():\n",
        "    url ='https://raw.githubusercontent.com/dwyl/english-words/master/words_alpha.txt'\n",
        "    df5 = pd.read_csv(url, header=None, encoding='unicode_escape')\n",
        "    df5.columns = [\"b\"]\n",
        "    df5[\"b\"] = df5[\"b\"].str.upper()\n",
        "    \n",
        "    return df5"
      ]
    },
    {
      "cell_type": "code",
      "source": [
        "# recibe la tabla con las palabras y las combinaciones y la tabla del diccionario\n",
        "\n",
        "def Merge(df1,df5):\n",
        "  df10=pd.DataFrame ()\n",
        "  Alfabeto=\"ABCDEFGHIJKLMNOPQRSTUVWXYZ\"\n",
        "  \n",
        "  # se evalua por cada columna de la tabla de palabras la interseccion de la tabla del diccionario \n",
        "  for k in range(0,len(df1.columns)):                 \n",
        "    df6=pd.merge(df1[Alfabeto[k]], df5, how='inner', left_on=[Alfabeto[k]], right_on='b')\n",
        "    df6 = df6.drop('b', 1)\n",
        "    df7 = df6.sort_values([Alfabeto[k]], ascending=True)\n",
        "    df8 = df7.drop_duplicates([Alfabeto[k]]).sort_index()\n",
        "    df9 = df8.sort_values([Alfabeto[k]], ascending=True)\n",
        "    df10[k]=df9\n",
        "    df10=df10.dropna(axis=1,how=\"all\")          # se eliminan las columnas vacias (NaN)\n",
        "    min=df10.count().idxmin()                   # identifica la columna con menos palabras\n",
        "    \n",
        "  return df10,min"
      ],
      "metadata": {
        "id": "7qs54A7buwU9"
      },
      "execution_count": null,
      "outputs": []
    },
    {
      "cell_type": "code",
      "source": [
        "# reemplaza la pseudopalabra por la palabra en ingles y las letras desconocidas de esta palabra las ubica en el texto\n",
        "\n",
        "def Replace(merge,search,Texto,min):\n",
        "  x = merge[min].dropna()\n",
        "  y = search[min]\n",
        "\n",
        "\n",
        "  for elements in x:\n",
        "    for n in range(0,len(y)):\n",
        "      \n",
        "      if y[n].islower()==True:\n",
        "        Texto=re.sub(y[n], elements[n], Texto)\n",
        "\n",
        "  return Texto"
      ],
      "metadata": {
        "id": "P2LiSke8y0z2"
      },
      "execution_count": null,
      "outputs": []
    },
    {
      "cell_type": "code",
      "source": [
        "# evalua en el abecedario las letras encontradas y las elimina\n",
        "\n",
        "def NewAlpha(abecedario,texto):\n",
        "  palabra=[]\n",
        "  NEWalpha=abecedario\n",
        "  for elements in texto:\n",
        "    for letras in elements:\n",
        "      if letras.isupper():\n",
        "        palabra.append(letras)\n",
        "  palabra=list(set(palabra))\n",
        "  for letras in palabra:\n",
        "    NEWalpha=NEWalpha.replace(letras,\"\")\n",
        "  return NEWalpha"
      ],
      "metadata": {
        "id": "GjEC4pTx0RX4"
      },
      "execution_count": null,
      "outputs": []
    },
    {
      "cell_type": "code",
      "source": [
        "# search busca las palabras en el texto con la longitud, \n",
        "# el numero de mayusculas, el numero de minusculas que queremos evaluar\n",
        "\n",
        "def search2(Texto,minmayus,minminus,lengthmin):\n",
        "    #convertimos a una lista todo el texto \n",
        "  Palabras=re.split(' ', Texto)\n",
        "   \n",
        "  Utiles=[]\n",
        "  Utiles2=[]\n",
        "  \n",
        "  for i in range(0, len(Palabras), 1):\n",
        "    T=Palabras[i]\n",
        "    if len(T)<=lengthmin:\n",
        "      M=0\n",
        "      \n",
        "      for e in range(0, len(T)):\n",
        "        if T[e].isupper()==True:\n",
        "          M=M+1\n",
        "          if M>=minmayus:\n",
        "            Utiles.append(Palabras[i])\n",
        "            \n",
        "\n",
        "  #ahora Eliminamos las palabras repetidas y dejamos solo 1\n",
        "\n",
        " \n",
        "  unique = []\n",
        "  [unique.append(word) for word in Utiles if word not in unique]\n",
        "  \n",
        "  \n",
        "  for palabras in unique:\n",
        "    t=0\n",
        "    if palabras.isupper()== False:\n",
        "      \n",
        "      for letra in palabras:\n",
        "        if letra.islower():\n",
        "          t = t+1\n",
        "          if t<=minminus:\n",
        "            Utiles2.append(palabras)\n",
        "\n",
        "\n",
        "  return Utiles2"
      ],
      "metadata": {
        "id": "krP3BHa_9Y4Y"
      },
      "execution_count": null,
      "outputs": []
    },
    {
      "cell_type": "code",
      "source": [
        "# aqui se crea todas las combinaciones de los parametros minmayus, minminus, lengthmin\n",
        "\n",
        "numeros=[]\n",
        "num=[]\n",
        "for i in range(4,10):                 # se busca palabras de minimo 4 letras y maximo 9 \n",
        "  for j in range(1,5):                # se busca palabras que tengan 1 letra minusculas y maximo 4\n",
        "    for k in range(1,5):              # se busca palabras que tengan 1 letra mayuscula y maximo 4\n",
        "      numeros=k,j,i\n",
        "      num.append(numeros)\n",
        "print(len(num)) #96 iteraciones\n",
        "num.reverse()\n",
        "print(num)"
      ],
      "metadata": {
        "id": "zhsRz_lTMW0Q",
        "colab": {
          "base_uri": "https://localhost:8080/"
        },
        "outputId": "c418e78c-b17c-4950-dd12-02a624e3260d"
      },
      "execution_count": null,
      "outputs": [
        {
          "output_type": "stream",
          "name": "stdout",
          "text": [
            "72\n",
            "[(4, 3, 9), (3, 3, 9), (2, 3, 9), (1, 3, 9), (4, 2, 9), (3, 2, 9), (2, 2, 9), (1, 2, 9), (4, 1, 9), (3, 1, 9), (2, 1, 9), (1, 1, 9), (4, 3, 8), (3, 3, 8), (2, 3, 8), (1, 3, 8), (4, 2, 8), (3, 2, 8), (2, 2, 8), (1, 2, 8), (4, 1, 8), (3, 1, 8), (2, 1, 8), (1, 1, 8), (4, 3, 7), (3, 3, 7), (2, 3, 7), (1, 3, 7), (4, 2, 7), (3, 2, 7), (2, 2, 7), (1, 2, 7), (4, 1, 7), (3, 1, 7), (2, 1, 7), (1, 1, 7), (4, 3, 6), (3, 3, 6), (2, 3, 6), (1, 3, 6), (4, 2, 6), (3, 2, 6), (2, 2, 6), (1, 2, 6), (4, 1, 6), (3, 1, 6), (2, 1, 6), (1, 1, 6), (4, 3, 5), (3, 3, 5), (2, 3, 5), (1, 3, 5), (4, 2, 5), (3, 2, 5), (2, 2, 5), (1, 2, 5), (4, 1, 5), (3, 1, 5), (2, 1, 5), (1, 1, 5), (4, 3, 4), (3, 3, 4), (2, 3, 4), (1, 3, 4), (4, 2, 4), (3, 2, 4), (2, 2, 4), (1, 2, 4), (4, 1, 4), (3, 1, 4), (2, 1, 4), (1, 1, 4)]\n"
          ]
        }
      ]
    },
    {
      "cell_type": "code",
      "source": [
        "# se ejecutan todas las funciones anteriores para hallar los conectores\n",
        "# y cargar el diccionario de palabras en ingles\n",
        "\n",
        "def conectores():\n",
        "  nTex1=Letrafreq(Alfabeto,Texto)\n",
        "  nTex1=Patron(nTex1)\n",
        "  nTex1=TO(nTex1)\n",
        "  nTex1=OF(nTex1)\n",
        "  search=THE(nTex1)\n",
        "  diccionario=PalabrasDic()\n",
        "  return(nTex1,search,diccionario)"
      ],
      "metadata": {
        "id": "pXE5_dM2TVrJ"
      },
      "execution_count": null,
      "outputs": []
    },
    {
      "cell_type": "code",
      "source": [
        "# se prueba las funciones buscando tres palabras \n",
        "\n",
        "def palabras(nTex1,search,diccionario):\n",
        "  ##############################################################\n",
        "\n",
        "  Newalpha=NewAlpha(abecedario,nTex1)\n",
        "  combinaciones=Combinaciones(Newalpha)\n",
        "  dataframe=Dataframe(search,combinaciones)\n",
        "  merge,min=Merge(dataframe,diccionario)\n",
        "  NewText=Replace(merge,search,nTex1,min)\n",
        "  Newalpha=NewAlpha(abecedario,NewText)\n",
        "  \n",
        "  #########################################################\n",
        "\n",
        "  search=[]\n",
        "  combinaciones=Combinaciones(Newalpha)\n",
        "  search=search2(NewText,3,2,4)\n",
        "  dataframe=Dataframe(search,combinaciones)\n",
        "  merge,min=Merge(dataframe,diccionario)\n",
        "  NewText=Replace(merge,search,NewText,min)\n",
        "  Newalpha=NewAlpha(abecedario,NewText)\n",
        "\n",
        "  ######################################################\n",
        "  combinaciones=Combinaciones(Newalpha)\n",
        "  search=search2(NewText,4,3,8)\n",
        "  dataframe=Dataframe(search,combinaciones)\n",
        "  merge,min=Merge(dataframe,diccionario)\n",
        "  NewText=Replace(merge,search,NewText,min)\n",
        "  Newalpha=NewAlpha(abecedario,NewText)\n",
        "  return(NewText,Newalpha)"
      ],
      "metadata": {
        "id": "pF2BjTwdUNiB"
      },
      "execution_count": null,
      "outputs": []
    },
    {
      "cell_type": "code",
      "source": [
        "# main que itera con el numero de combianaciones de los parametros minmayus, minminus, lengthmin\n",
        "\n",
        "nTex1,search,diccionario=conectores()\n",
        "NewText,Newalpha=palabras(nTex1,search,diccionario)\n",
        "\n",
        "\n",
        "for a in num:\n",
        "  search=[]\n",
        "  combinaciones=Combinaciones(Newalpha)\n",
        "  try:\n",
        "    search=search2(NewText,a[0],a[1],a[2])\n",
        "    dataframe=Dataframe(search,combinaciones)\n",
        "    merge,min=Merge(dataframe,diccionario)\n",
        "  except:\n",
        "    continue\n",
        "  NewText=Replace(merge,search,NewText,min)\n",
        "  Newalpha=NewAlpha(abecedario,NewText)\n",
        " \n",
        "print(NewText)"
      ],
      "metadata": {
        "colab": {
          "base_uri": "https://localhost:8080/"
        },
        "id": "rxx3wx8hcCaT",
        "outputId": "8de9c1f2-024e-4855-95c7-7ff04faa4888"
      },
      "execution_count": null,
      "outputs": [
        {
          "output_type": "stream",
          "name": "stderr",
          "text": [
            "<ipython-input-10-9febb0cd1a7a>:10: FutureWarning: In a future version of pandas all arguments of DataFrame.drop except for the argument 'labels' will be keyword-only\n",
            "  df6 = df6.drop('b', 1)\n"
          ]
        },
        {
          "output_type": "stream",
          "name": "stdout",
          "text": [
            "MY NAME IS MAXIMUS DECIMUS MERIDIUS COMMANDER OF THE ARMIES OF THE NORTH GENERAL OF THE FELIX LEGIONS AND LOYAL SERVANT TO THE TRUE EMPEROR MARCUS AURELIUS FATHER TO A MURDERED SON HUSBAND TO A MURDERED WIFE AND I WILL HAVE MY VENGEANCE IN THIS LIFE OR THE NEXT\n"
          ]
        }
      ]
    },
    {
      "cell_type": "markdown",
      "source": [
        "MY NAME IS MAXIMUS DECIMUS MERIDIUS COMMANDER OF THE ARMIES OF THE NORTH GENERAL OF THE FELIX LEGIONS AND LOYAL SERVANT TO THE TRUE EMPEROR MARCUS AURELIUS FATHER TO A MURDERED SON HUSBAND TO A MURDERED WIFE AND I WILL HAVE MY VENGEANCE IN THIS LIFE OR THE NEXT"
      ],
      "metadata": {
        "id": "G9aPWMoZ7fao"
      }
    },
    {
      "cell_type": "markdown",
      "source": [],
      "metadata": {
        "id": "nCsFygQd7fV7"
      }
    }
  ]
}