{
  "cells": [
    {
      "cell_type": "markdown",
      "metadata": {
        "id": "view-in-github",
        "colab_type": "text"
      },
      "source": [
        "<a href=\"https://colab.research.google.com/github/ronaldbeja/Artificial-intelligence/blob/main/Taller_en_clase.ipynb\" target=\"_parent\"><img src=\"https://colab.research.google.com/assets/colab-badge.svg\" alt=\"Open In Colab\"/></a>"
      ]
    },
    {
      "cell_type": "markdown",
      "source": [
        "# Taller en clase\n",
        "\n",
        "## GRUPO NEURAL NEXUS\n",
        "\n",
        "\n",
        "\n",
        "*   Andrea Franco Suárez\n",
        "*   Andrés Felipe Varela Joven\n",
        "*   Carlos Andrés Urbano Urbano\n",
        "*   Hardy Galvis Pedraza\n",
        "*   Ronal Stiven Bejarano Larrahondo\n",
        "\n"
      ],
      "metadata": {
        "id": "sUR7t2h55Se9"
      }
    },
    {
      "cell_type": "markdown",
      "source": [
        "##Dataset: California Housing\n",
        "\n",
        "El objetivo del dataset es estimar los precios de casas en california en base a ciertas características de las mismas."
      ],
      "metadata": {
        "id": "Q1wwlgmL543z"
      }
    },
    {
      "cell_type": "code",
      "execution_count": null,
      "metadata": {
        "id": "VfAqfb80SKyo"
      },
      "outputs": [],
      "source": [
        "#!pip install scikit-learn  #Instalamos scikit learn en nuestro entorno de python"
      ]
    },
    {
      "cell_type": "code",
      "execution_count": null,
      "metadata": {
        "id": "YljD7owQSOCQ",
        "colab": {
          "base_uri": "https://localhost:8080/",
          "height": 206
        },
        "outputId": "f0012375-f259-43f8-b945-32016c893049"
      },
      "outputs": [
        {
          "output_type": "execute_result",
          "data": {
            "text/plain": [
              "   MedInc  HouseAge  AveRooms  AveBedrms  Population  AveOccup  Latitude  \\\n",
              "0  8.3252      41.0  6.984127   1.023810       322.0  2.555556     37.88   \n",
              "1  8.3014      21.0  6.238137   0.971880      2401.0  2.109842     37.86   \n",
              "2  7.2574      52.0  8.288136   1.073446       496.0  2.802260     37.85   \n",
              "3  5.6431      52.0  5.817352   1.073059       558.0  2.547945     37.85   \n",
              "4  3.8462      52.0  6.281853   1.081081       565.0  2.181467     37.85   \n",
              "\n",
              "   Longitude  \n",
              "0    -122.23  \n",
              "1    -122.22  \n",
              "2    -122.24  \n",
              "3    -122.25  \n",
              "4    -122.25  "
            ],
            "text/html": [
              "\n",
              "  <div id=\"df-c40fcc8d-6213-4f32-80a0-5512f7a6d84b\">\n",
              "    <div class=\"colab-df-container\">\n",
              "      <div>\n",
              "<style scoped>\n",
              "    .dataframe tbody tr th:only-of-type {\n",
              "        vertical-align: middle;\n",
              "    }\n",
              "\n",
              "    .dataframe tbody tr th {\n",
              "        vertical-align: top;\n",
              "    }\n",
              "\n",
              "    .dataframe thead th {\n",
              "        text-align: right;\n",
              "    }\n",
              "</style>\n",
              "<table border=\"1\" class=\"dataframe\">\n",
              "  <thead>\n",
              "    <tr style=\"text-align: right;\">\n",
              "      <th></th>\n",
              "      <th>MedInc</th>\n",
              "      <th>HouseAge</th>\n",
              "      <th>AveRooms</th>\n",
              "      <th>AveBedrms</th>\n",
              "      <th>Population</th>\n",
              "      <th>AveOccup</th>\n",
              "      <th>Latitude</th>\n",
              "      <th>Longitude</th>\n",
              "    </tr>\n",
              "  </thead>\n",
              "  <tbody>\n",
              "    <tr>\n",
              "      <th>0</th>\n",
              "      <td>8.3252</td>\n",
              "      <td>41.0</td>\n",
              "      <td>6.984127</td>\n",
              "      <td>1.023810</td>\n",
              "      <td>322.0</td>\n",
              "      <td>2.555556</td>\n",
              "      <td>37.88</td>\n",
              "      <td>-122.23</td>\n",
              "    </tr>\n",
              "    <tr>\n",
              "      <th>1</th>\n",
              "      <td>8.3014</td>\n",
              "      <td>21.0</td>\n",
              "      <td>6.238137</td>\n",
              "      <td>0.971880</td>\n",
              "      <td>2401.0</td>\n",
              "      <td>2.109842</td>\n",
              "      <td>37.86</td>\n",
              "      <td>-122.22</td>\n",
              "    </tr>\n",
              "    <tr>\n",
              "      <th>2</th>\n",
              "      <td>7.2574</td>\n",
              "      <td>52.0</td>\n",
              "      <td>8.288136</td>\n",
              "      <td>1.073446</td>\n",
              "      <td>496.0</td>\n",
              "      <td>2.802260</td>\n",
              "      <td>37.85</td>\n",
              "      <td>-122.24</td>\n",
              "    </tr>\n",
              "    <tr>\n",
              "      <th>3</th>\n",
              "      <td>5.6431</td>\n",
              "      <td>52.0</td>\n",
              "      <td>5.817352</td>\n",
              "      <td>1.073059</td>\n",
              "      <td>558.0</td>\n",
              "      <td>2.547945</td>\n",
              "      <td>37.85</td>\n",
              "      <td>-122.25</td>\n",
              "    </tr>\n",
              "    <tr>\n",
              "      <th>4</th>\n",
              "      <td>3.8462</td>\n",
              "      <td>52.0</td>\n",
              "      <td>6.281853</td>\n",
              "      <td>1.081081</td>\n",
              "      <td>565.0</td>\n",
              "      <td>2.181467</td>\n",
              "      <td>37.85</td>\n",
              "      <td>-122.25</td>\n",
              "    </tr>\n",
              "  </tbody>\n",
              "</table>\n",
              "</div>\n",
              "      <button class=\"colab-df-convert\" onclick=\"convertToInteractive('df-c40fcc8d-6213-4f32-80a0-5512f7a6d84b')\"\n",
              "              title=\"Convert this dataframe to an interactive table.\"\n",
              "              style=\"display:none;\">\n",
              "        \n",
              "  <svg xmlns=\"http://www.w3.org/2000/svg\" height=\"24px\"viewBox=\"0 0 24 24\"\n",
              "       width=\"24px\">\n",
              "    <path d=\"M0 0h24v24H0V0z\" fill=\"none\"/>\n",
              "    <path d=\"M18.56 5.44l.94 2.06.94-2.06 2.06-.94-2.06-.94-.94-2.06-.94 2.06-2.06.94zm-11 1L8.5 8.5l.94-2.06 2.06-.94-2.06-.94L8.5 2.5l-.94 2.06-2.06.94zm10 10l.94 2.06.94-2.06 2.06-.94-2.06-.94-.94-2.06-.94 2.06-2.06.94z\"/><path d=\"M17.41 7.96l-1.37-1.37c-.4-.4-.92-.59-1.43-.59-.52 0-1.04.2-1.43.59L10.3 9.45l-7.72 7.72c-.78.78-.78 2.05 0 2.83L4 21.41c.39.39.9.59 1.41.59.51 0 1.02-.2 1.41-.59l7.78-7.78 2.81-2.81c.8-.78.8-2.07 0-2.86zM5.41 20L4 18.59l7.72-7.72 1.47 1.35L5.41 20z\"/>\n",
              "  </svg>\n",
              "      </button>\n",
              "      \n",
              "  <style>\n",
              "    .colab-df-container {\n",
              "      display:flex;\n",
              "      flex-wrap:wrap;\n",
              "      gap: 12px;\n",
              "    }\n",
              "\n",
              "    .colab-df-convert {\n",
              "      background-color: #E8F0FE;\n",
              "      border: none;\n",
              "      border-radius: 50%;\n",
              "      cursor: pointer;\n",
              "      display: none;\n",
              "      fill: #1967D2;\n",
              "      height: 32px;\n",
              "      padding: 0 0 0 0;\n",
              "      width: 32px;\n",
              "    }\n",
              "\n",
              "    .colab-df-convert:hover {\n",
              "      background-color: #E2EBFA;\n",
              "      box-shadow: 0px 1px 2px rgba(60, 64, 67, 0.3), 0px 1px 3px 1px rgba(60, 64, 67, 0.15);\n",
              "      fill: #174EA6;\n",
              "    }\n",
              "\n",
              "    [theme=dark] .colab-df-convert {\n",
              "      background-color: #3B4455;\n",
              "      fill: #D2E3FC;\n",
              "    }\n",
              "\n",
              "    [theme=dark] .colab-df-convert:hover {\n",
              "      background-color: #434B5C;\n",
              "      box-shadow: 0px 1px 3px 1px rgba(0, 0, 0, 0.15);\n",
              "      filter: drop-shadow(0px 1px 2px rgba(0, 0, 0, 0.3));\n",
              "      fill: #FFFFFF;\n",
              "    }\n",
              "  </style>\n",
              "\n",
              "      <script>\n",
              "        const buttonEl =\n",
              "          document.querySelector('#df-c40fcc8d-6213-4f32-80a0-5512f7a6d84b button.colab-df-convert');\n",
              "        buttonEl.style.display =\n",
              "          google.colab.kernel.accessAllowed ? 'block' : 'none';\n",
              "\n",
              "        async function convertToInteractive(key) {\n",
              "          const element = document.querySelector('#df-c40fcc8d-6213-4f32-80a0-5512f7a6d84b');\n",
              "          const dataTable =\n",
              "            await google.colab.kernel.invokeFunction('convertToInteractive',\n",
              "                                                     [key], {});\n",
              "          if (!dataTable) return;\n",
              "\n",
              "          const docLinkHtml = 'Like what you see? Visit the ' +\n",
              "            '<a target=\"_blank\" href=https://colab.research.google.com/notebooks/data_table.ipynb>data table notebook</a>'\n",
              "            + ' to learn more about interactive tables.';\n",
              "          element.innerHTML = '';\n",
              "          dataTable['output_type'] = 'display_data';\n",
              "          await google.colab.output.renderOutput(dataTable, element);\n",
              "          const docLink = document.createElement('div');\n",
              "          docLink.innerHTML = docLinkHtml;\n",
              "          element.appendChild(docLink);\n",
              "        }\n",
              "      </script>\n",
              "    </div>\n",
              "  </div>\n",
              "  "
            ]
          },
          "metadata": {},
          "execution_count": 44
        }
      ],
      "source": [
        "#cargamos la informacion con la que trabajaremos \n",
        "from sklearn import datasets\n",
        "import pandas as pd\n",
        "import numpy as np\n",
        "house=datasets.fetch_california_housing()\n",
        "features=house['feature_names']\n",
        "data=pd.DataFrame(house['data'],columns=features)\n",
        "\n",
        "data.head()"
      ]
    },
    {
      "cell_type": "code",
      "execution_count": null,
      "metadata": {
        "id": "DmsxcbViScXc",
        "colab": {
          "base_uri": "https://localhost:8080/",
          "height": 223
        },
        "outputId": "32d1ef52-b24c-477d-bc6c-666daf6c3a06"
      },
      "outputs": [
        {
          "output_type": "stream",
          "name": "stdout",
          "text": [
            "(20640, 1)\n"
          ]
        },
        {
          "output_type": "execute_result",
          "data": {
            "text/plain": [
              "   target\n",
              "0   4.526\n",
              "1   3.585\n",
              "2   3.521\n",
              "3   3.413\n",
              "4   3.422"
            ],
            "text/html": [
              "\n",
              "  <div id=\"df-9b0bf79b-9001-4069-bd00-9f7c9fbe05fc\">\n",
              "    <div class=\"colab-df-container\">\n",
              "      <div>\n",
              "<style scoped>\n",
              "    .dataframe tbody tr th:only-of-type {\n",
              "        vertical-align: middle;\n",
              "    }\n",
              "\n",
              "    .dataframe tbody tr th {\n",
              "        vertical-align: top;\n",
              "    }\n",
              "\n",
              "    .dataframe thead th {\n",
              "        text-align: right;\n",
              "    }\n",
              "</style>\n",
              "<table border=\"1\" class=\"dataframe\">\n",
              "  <thead>\n",
              "    <tr style=\"text-align: right;\">\n",
              "      <th></th>\n",
              "      <th>target</th>\n",
              "    </tr>\n",
              "  </thead>\n",
              "  <tbody>\n",
              "    <tr>\n",
              "      <th>0</th>\n",
              "      <td>4.526</td>\n",
              "    </tr>\n",
              "    <tr>\n",
              "      <th>1</th>\n",
              "      <td>3.585</td>\n",
              "    </tr>\n",
              "    <tr>\n",
              "      <th>2</th>\n",
              "      <td>3.521</td>\n",
              "    </tr>\n",
              "    <tr>\n",
              "      <th>3</th>\n",
              "      <td>3.413</td>\n",
              "    </tr>\n",
              "    <tr>\n",
              "      <th>4</th>\n",
              "      <td>3.422</td>\n",
              "    </tr>\n",
              "  </tbody>\n",
              "</table>\n",
              "</div>\n",
              "      <button class=\"colab-df-convert\" onclick=\"convertToInteractive('df-9b0bf79b-9001-4069-bd00-9f7c9fbe05fc')\"\n",
              "              title=\"Convert this dataframe to an interactive table.\"\n",
              "              style=\"display:none;\">\n",
              "        \n",
              "  <svg xmlns=\"http://www.w3.org/2000/svg\" height=\"24px\"viewBox=\"0 0 24 24\"\n",
              "       width=\"24px\">\n",
              "    <path d=\"M0 0h24v24H0V0z\" fill=\"none\"/>\n",
              "    <path d=\"M18.56 5.44l.94 2.06.94-2.06 2.06-.94-2.06-.94-.94-2.06-.94 2.06-2.06.94zm-11 1L8.5 8.5l.94-2.06 2.06-.94-2.06-.94L8.5 2.5l-.94 2.06-2.06.94zm10 10l.94 2.06.94-2.06 2.06-.94-2.06-.94-.94-2.06-.94 2.06-2.06.94z\"/><path d=\"M17.41 7.96l-1.37-1.37c-.4-.4-.92-.59-1.43-.59-.52 0-1.04.2-1.43.59L10.3 9.45l-7.72 7.72c-.78.78-.78 2.05 0 2.83L4 21.41c.39.39.9.59 1.41.59.51 0 1.02-.2 1.41-.59l7.78-7.78 2.81-2.81c.8-.78.8-2.07 0-2.86zM5.41 20L4 18.59l7.72-7.72 1.47 1.35L5.41 20z\"/>\n",
              "  </svg>\n",
              "      </button>\n",
              "      \n",
              "  <style>\n",
              "    .colab-df-container {\n",
              "      display:flex;\n",
              "      flex-wrap:wrap;\n",
              "      gap: 12px;\n",
              "    }\n",
              "\n",
              "    .colab-df-convert {\n",
              "      background-color: #E8F0FE;\n",
              "      border: none;\n",
              "      border-radius: 50%;\n",
              "      cursor: pointer;\n",
              "      display: none;\n",
              "      fill: #1967D2;\n",
              "      height: 32px;\n",
              "      padding: 0 0 0 0;\n",
              "      width: 32px;\n",
              "    }\n",
              "\n",
              "    .colab-df-convert:hover {\n",
              "      background-color: #E2EBFA;\n",
              "      box-shadow: 0px 1px 2px rgba(60, 64, 67, 0.3), 0px 1px 3px 1px rgba(60, 64, 67, 0.15);\n",
              "      fill: #174EA6;\n",
              "    }\n",
              "\n",
              "    [theme=dark] .colab-df-convert {\n",
              "      background-color: #3B4455;\n",
              "      fill: #D2E3FC;\n",
              "    }\n",
              "\n",
              "    [theme=dark] .colab-df-convert:hover {\n",
              "      background-color: #434B5C;\n",
              "      box-shadow: 0px 1px 3px 1px rgba(0, 0, 0, 0.15);\n",
              "      filter: drop-shadow(0px 1px 2px rgba(0, 0, 0, 0.3));\n",
              "      fill: #FFFFFF;\n",
              "    }\n",
              "  </style>\n",
              "\n",
              "      <script>\n",
              "        const buttonEl =\n",
              "          document.querySelector('#df-9b0bf79b-9001-4069-bd00-9f7c9fbe05fc button.colab-df-convert');\n",
              "        buttonEl.style.display =\n",
              "          google.colab.kernel.accessAllowed ? 'block' : 'none';\n",
              "\n",
              "        async function convertToInteractive(key) {\n",
              "          const element = document.querySelector('#df-9b0bf79b-9001-4069-bd00-9f7c9fbe05fc');\n",
              "          const dataTable =\n",
              "            await google.colab.kernel.invokeFunction('convertToInteractive',\n",
              "                                                     [key], {});\n",
              "          if (!dataTable) return;\n",
              "\n",
              "          const docLinkHtml = 'Like what you see? Visit the ' +\n",
              "            '<a target=\"_blank\" href=https://colab.research.google.com/notebooks/data_table.ipynb>data table notebook</a>'\n",
              "            + ' to learn more about interactive tables.';\n",
              "          element.innerHTML = '';\n",
              "          dataTable['output_type'] = 'display_data';\n",
              "          await google.colab.output.renderOutput(dataTable, element);\n",
              "          const docLink = document.createElement('div');\n",
              "          docLink.innerHTML = docLinkHtml;\n",
              "          element.appendChild(docLink);\n",
              "        }\n",
              "      </script>\n",
              "    </div>\n",
              "  </div>\n",
              "  "
            ]
          },
          "metadata": {},
          "execution_count": 45
        }
      ],
      "source": [
        "#esta es la salida\n",
        "target=pd.DataFrame(house['target'],columns=[\"target\"])\n",
        "print(target.shape)\n",
        "target.head()"
      ]
    },
    {
      "cell_type": "markdown",
      "source": [
        "##Regresión lineal Y SVD\n",
        "\n",
        "Usaremos funciones numpy y matplotlib para calcular la regresión lineal para este problema, y a su vez reducir la dimensión del dataframe de 8 dimensiones a 2 y a 1 para comparar el rendimiento de los modelos cuando se baja la dimensionalidad a través de la Singular Value Decomposition."
      ],
      "metadata": {
        "id": "o1oa-I-q6RlS"
      }
    },
    {
      "cell_type": "markdown",
      "metadata": {
        "id": "1yOs-LvQWpbf"
      },
      "source": [
        "Regresion lineal usando matrices\n",
        "\n",
        "$\\hat{\\beta}=(X^T.X)^{-1}.X^T.Y$"
      ]
    },
    {
      "cell_type": "markdown",
      "metadata": {
        "id": "fSrtPbRTU_Nn"
      },
      "source": [
        "#Reduccion a 1 variable de entrada"
      ]
    },
    {
      "cell_type": "code",
      "execution_count": null,
      "metadata": {
        "id": "noUowxsuVGw3",
        "colab": {
          "base_uri": "https://localhost:8080/"
        },
        "outputId": "819816cc-375d-4fa9-c84a-4159552b1b46"
      },
      "outputs": [
        {
          "output_type": "stream",
          "name": "stdout",
          "text": [
            "----valores singulares en la diagonal de sigma-----\n",
            "[261944.38470034] \n",
            "\n",
            "----matriz transformada------3x2\n",
            "[[ 328.86110032]\n",
            " [2404.51039645]\n",
            " [ 502.72270196]\n",
            " ...\n",
            " [1012.52203262]\n",
            " [ 746.93849418]\n",
            " [1391.94139699]]\n",
            "(20640, 1)\n"
          ]
        }
      ],
      "source": [
        "from sklearn.decomposition import TruncatedSVD\n",
        "import matplotlib.pyplot as plt\n",
        "\n",
        "# creamos un objeto que es una svd truncada con dos componentes\n",
        "Asvd=TruncatedSVD(n_components = 1)\n",
        "\n",
        "# luego cramos una matriz transformada que equivale ha:\n",
        "#que equivale a coger el objeto y ajustarlo y transformarlo\n",
        "Data1Dimen = Asvd.fit_transform(data)\n",
        "\n",
        "print(\"----valores singulares en la diagonal de sigma-----\")\n",
        "print(Asvd.singular_values_,\"\\n\")\n",
        "\n",
        "print(\"----matriz transformada------3x2\")\n",
        "print(Data1Dimen)\n",
        "print(Data1Dimen.shape)"
      ]
    },
    {
      "cell_type": "markdown",
      "metadata": {
        "id": "8ru-7cBbpOyF"
      },
      "source": [
        "\n",
        "##Regresion de 1 dimensiones"
      ]
    },
    {
      "cell_type": "code",
      "execution_count": null,
      "metadata": {
        "id": "ALf3f10Umnq6",
        "colab": {
          "base_uri": "https://localhost:8080/"
        },
        "outputId": "b86a8a5e-6918-4c80-8c48-006577eae5de"
      },
      "outputs": [
        {
          "output_type": "stream",
          "name": "stdout",
          "text": [
            "[[ 2.10452043e+00]\n",
            " [-2.51420922e-05]]\n",
            "------beta---\n",
            "\n",
            "(20640, 2)\n"
          ]
        }
      ],
      "source": [
        "## Calculo para dos dimensiones\n",
        "\n",
        "X = Data1Dimen\n",
        "Y = target\n",
        "\n",
        "\n",
        "# Añadir una columna de unos para el término independiente\n",
        "X = np.hstack((np.ones((X.shape[0], 1)), X))\n",
        "\n",
        "# Calcular los coeficientes de la regresión lineal\n",
        "beta_hat = np.linalg.inv(X.T.dot(X)).dot(X.T).dot(Y)\n",
        "print(beta_hat)\n",
        "print(\"------beta---\\n\")\n",
        "\n",
        "# Calcular las predicciones apartir de las mismas entradas de data\n",
        "y1dim = X.dot(beta_hat)\n",
        "y1dim.shape\n",
        "print(X.shape)"
      ]
    },
    {
      "cell_type": "markdown",
      "source": [
        "#regresion con matriz"
      ],
      "metadata": {
        "id": "D_Iit7Qtba-H"
      }
    },
    {
      "cell_type": "code",
      "execution_count": null,
      "metadata": {
        "id": "mFcg0Ow0rX0T",
        "colab": {
          "base_uri": "https://localhost:8080/",
          "height": 281
        },
        "outputId": "5780c89f-4ed4-471a-e2d8-9012f8940ece"
      },
      "outputs": [
        {
          "output_type": "display_data",
          "data": {
            "text/plain": [
              "<Figure size 432x288 with 1 Axes>"
            ],
            "image/png": "[encoded data removed]"
          },
          "metadata": {
            "needs_background": "light"
          }
        }
      ],
      "source": [
        "#graficamos la regresion de 2d\n",
        "\n",
        "#------------------------------------------\n",
        "plt.scatter(Data1Dimen,target,label='data')\n",
        "plt.plot(Data1Dimen,y1dim,color=\"r\",label='regresion')\n",
        "plt.title('Regresion en 2D')\n",
        "plt.legend()\n",
        "plt.show()\n"
      ]
    },
    {
      "cell_type": "markdown",
      "source": [
        "#regresion con optimize"
      ],
      "metadata": {
        "id": "HEGDLdICblyg"
      }
    },
    {
      "cell_type": "code",
      "source": [
        "import numpy as np\n",
        "from scipy import optimize\n",
        "import matplotlib.pyplot as plt\n",
        "\n",
        "np.random.seed(0)\n",
        "\n",
        "# Our test function\n",
        "def f(x, m, b):\n",
        "    return m*x + b\n",
        "\n",
        "# Our x and y data\n",
        "x = np.array(Data1Dimen).reshape(-1,)\n",
        "y = np.array(target).reshape(-1,)\n",
        "# Fit the model: the parameters m and b can be found in the `params` vector\n",
        "params, params_cov = optimize.curve_fit(f, x, y)\n",
        "\n",
        "# Plot the data and the fitted curve\n",
        "t = np.linspace(0,35000)\n",
        "\n",
        "plt.figure(1)\n",
        "plt.clf()\n",
        "plt.plot(x, y, 'bo', markerfacecolor='none', label='data')\n",
        "plt.plot(t, f(t, *params), 'r-', label='fit')\n",
        "plt.legend()\n",
        "plt.show()\n",
        "\n",
        "\n",
        "#funcion con cur fit \n",
        "#minimize escaler con la funcion de costo a minimizar\n",
        "#tratemos de uti"
      ],
      "metadata": {
        "id": "fRoRMXHQIUzP",
        "colab": {
          "base_uri": "https://localhost:8080/",
          "height": 265
        },
        "outputId": "d5bfe781-881c-48ab-8796-bcea6bbe7ebb"
      },
      "execution_count": null,
      "outputs": [
        {
          "output_type": "display_data",
          "data": {
            "text/plain": [
              "<Figure size 432x288 with 1 Axes>"
            ],
            "image/png": "[encoded data removed]"
          },
          "metadata": {
            "needs_background": "light"
          }
        }
      ]
    },
    {
      "cell_type": "code",
      "source": [
        "from scipy.optimize import minimize_scalar\n",
        "\n",
        "# Definimos la función de costo MSE\n",
        "def Rmse(p, x, y):\n",
        "    y_pred = p * x + 2.10452043e+00\n",
        "    return np.sqrt(np.mean(np.square(y - y_pred))) #calculo \n",
        "\n",
        "# Minimizamos la función de costo utilizando minimize_scalar\n",
        "res = minimize_scalar(Rmse, args=(x, y))\n",
        "\n",
        "# Obtenemos el valor óptimo del coeficiente de regresión\n",
        "p_opt = res.x\n",
        "\n",
        "# Imprimimos el valor óptimo del coeficiente de regresión y el valor mínimo de la función de costo MSE\n",
        "print('Coeficiente de regresión óptimo:', p_opt)\n",
        "print('Valor mínimo de la función de costo RMSE:', res.fun)\n",
        "\n",
        "res"
      ],
      "metadata": {
        "id": "R5d56rjXw6yn",
        "colab": {
          "base_uri": "https://localhost:8080/"
        },
        "outputId": "ad5daf2a-d84c-4896-84b0-c46b17cb3662"
      },
      "execution_count": null,
      "outputs": [
        {
          "output_type": "stream",
          "name": "stdout",
          "text": [
            "Coeficiente de regresión óptimo: -2.5142099855945697e-05\n",
            "Valor mínimo de la función de costo RMSE: 1.1535779868615217\n"
          ]
        },
        {
          "output_type": "execute_result",
          "data": {
            "text/plain": [
              " message: \n",
              "          Optimization terminated successfully;\n",
              "          The returned value satisfies the termination criteria\n",
              "          (using xtol = 1.48e-08 )\n",
              " success: True\n",
              "     fun: 1.1535779868615217\n",
              "       x: -2.5142099855945697e-05\n",
              "     nit: 15\n",
              "    nfev: 18"
            ]
          },
          "metadata": {},
          "execution_count": 71
        }
      ]
    },
    {
      "cell_type": "code",
      "source": [
        "import matplotlib.pyplot as plt\n",
        "\n",
        "# Graficamos los datos de entrenamiento\n",
        "plt.scatter(x, y)\n",
        "\n",
        "# Calculamos la línea de regresión con el valor óptimo del coeficiente de regresión\n",
        "x_reg = x\n",
        "y_reg = p_opt * x_reg + 2.10452043e+00\n",
        "\n",
        "# Graficamos la línea de regresión\n",
        "plt.plot(x_reg, y_reg, 'r')\n",
        "\n",
        "# Agregamos etiquetas al gráfico\n",
        "plt.xlabel('X')\n",
        "plt.ylabel('Y')\n",
        "plt.title('Regresión lineal con RMSE')\n",
        "\n",
        "# Mostramos el gráfico"
      ],
      "metadata": {
        "id": "0i4pVlmxwyWa",
        "colab": {
          "base_uri": "https://localhost:8080/",
          "height": 312
        },
        "outputId": "c79c6f74-23c8-4e78-ac03-56d4454278c1"
      },
      "execution_count": null,
      "outputs": [
        {
          "output_type": "execute_result",
          "data": {
            "text/plain": [
              "Text(0.5, 1.0, 'Regresión lineal con RMSE')"
            ]
          },
          "metadata": {},
          "execution_count": 72
        },
        {
          "output_type": "display_data",
          "data": {
            "text/plain": [
              "<Figure size 432x288 with 1 Axes>"
            ],
            "image/png": "[encoded data removed]"
          },
          "metadata": {
            "needs_background": "light"
          }
        }
      ]
    },
    {
      "cell_type": "markdown",
      "source": [
        "Comparacion"
      ],
      "metadata": {
        "id": "ejntJHzb55JM"
      }
    },
    {
      "cell_type": "code",
      "source": [
        "ax=plt.figure(figsize=[20,10])\n",
        "plt.plot(Data1Dimen,y1dim,color=\"r\",label='regresion',ls=\"-.\",lw=10) #regresion normal \n",
        "plt.plot(t, f(t, *params), 'g-', label='optimize',ls=\":\",lw=15) #regrecion\n",
        "plt.plot(x_reg, y_reg, 'b',label='minimize',ls=\"--\",lw=6)# opti\n",
        "plt.scatter(x, y)\n",
        "plt.legend()\n",
        "plt.show()\n"
      ],
      "metadata": {
        "colab": {
          "base_uri": "https://localhost:8080/",
          "height": 647
        },
        "id": "TKp_d_Qe56M-",
        "outputId": "2bc02832-ad91-46d7-f3e4-4d14422b684b"
      },
      "execution_count": null,
      "outputs": [
        {
          "output_type": "stream",
          "name": "stderr",
          "text": [
            "<ipython-input-99-1e68946b1a76>:3: UserWarning: linestyle is redundantly defined by the 'linestyle' keyword argument and the fmt string \"g-\" (-> linestyle='-'). The keyword argument will take precedence.\n",
            "  plt.plot(t, f(t, *params), 'g-', label='optimize',ls=\":\",lw=15) #regrecion\n"
          ]
        },
        {
          "output_type": "display_data",
          "data": {
            "text/plain": [
              "<Figure size 1440x720 with 1 Axes>"
            ],
            "image/png": "[encoded data removed]"
          },
          "metadata": {
            "needs_background": "light"
          }
        }
      ]
    }
  ],
  "metadata": {
    "accelerator": "GPU",
    "colab": {
      "provenance": [],
      "include_colab_link": true
    },
    "gpuClass": "standard",
    "kernelspec": {
      "display_name": "Python 3",
      "name": "python3"
    },
    "language_info": {
      "name": "python"
    }
  },
  "nbformat": 4,
  "nbformat_minor": 0
}