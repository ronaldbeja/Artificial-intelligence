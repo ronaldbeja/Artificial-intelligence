{
  "nbformat": 4,
  "nbformat_minor": 0,
  "metadata": {
    "colab": {
      "provenance": [],
      "authorship_tag": "ABX9TyMIQLOxn993fxWqbhpJKCfC",
      "include_colab_link": true
    },
    "kernelspec": {
      "name": "python3",
      "display_name": "Python 3"
    },
    "language_info": {
      "name": "python"
    }
  },
  "cells": [
    {
      "cell_type": "markdown",
      "metadata": {
        "id": "view-in-github",
        "colab_type": "text"
      },
      "source": [
        "<a href=\"https://colab.research.google.com/github/ronaldbeja/Artificial-intelligence/blob/main/Retos.ipynb\" target=\"_parent\"><img src=\"https://colab.research.google.com/assets/colab-badge.svg\" alt=\"Open In Colab\"/></a>"
      ]
    },
    {
      "cell_type": "code",
      "execution_count": null,
      "metadata": {
        "id": "Jp6rU0P7hh0t"
      },
      "outputs": [],
      "source": [
        "'''\n",
        "\n",
        "Programa que muestra todas las claves posibles\n",
        "para un candado de clave de cuatro ruedas.\n",
        "\n",
        "'''"
      ]
    },
    {
      "cell_type": "code",
      "source": [
        "n=[]\n",
        "for i in range(10):\n",
        "  for j in range(10):\n",
        "    for k in range(10):\n",
        "      for m in range(10):\n",
        "        comb=str(i)+str(j)+str(k)+str(m)\n",
        "        n.append(comb)\n",
        "len(n)"
      ],
      "metadata": {
        "colab": {
          "base_uri": "https://localhost:8080/"
        },
        "id": "kBqBRPIUhxY9",
        "outputId": "cac6655d-7f35-41e8-a6e9-d8bd49f96287"
      },
      "execution_count": 5,
      "outputs": [
        {
          "output_type": "execute_result",
          "data": {
            "text/plain": [
              "10000"
            ]
          },
          "metadata": {},
          "execution_count": 5
        }
      ]
    },
    {
      "cell_type": "code",
      "source": [
        "'''\n",
        "Cinco amigos van a hacer una carrera:\n",
        "\"Tomás\",\"María\",\"Laura\",\"Miguel\",\"Carlos\"\n",
        "Muestra todos los posibles resultados que se pueden dar en esa carrera.\n",
        "\n",
        "Es decir, el orden en que pueden llegar a la meta los cinco amigos.\n",
        "Incluye un contador que compruebe cuántas posibilidades se dan.\n",
        "\n",
        "'''"
      ],
      "metadata": {
        "id": "3g873jA9ihRg"
      },
      "execution_count": null,
      "outputs": []
    },
    {
      "cell_type": "code",
      "source": [
        "friend=[\"Tomás\",\"María\",\"Laura\",\"Miguel\",\"Carlos\"]\n",
        "cont=0\n",
        "for i in friend:\n",
        "  for j in friend:\n",
        "    for k in friend:\n",
        "      for m in friend:\n",
        "        for n in friend:\n",
        "          if i!=j and i!=k and i !=m and i!=n and \\\n",
        "             j!=k and j!=m and j!=n and \\\n",
        "             k!=m and k!=n and m!=n:\n",
        "             orden=[i,j,k,m,n]\n",
        "             cont+=1\n",
        "             print(\"{:3d} : {}\".format(cont,orden))\n",
        "\n",
        "\n",
        "       "
      ],
      "metadata": {
        "id": "rrtCXXsCkIzu"
      },
      "execution_count": null,
      "outputs": []
    },
    {
      "cell_type": "code",
      "source": [
        "'''\n",
        "Para un juego que va a tener 20.000 planetas necesitamos formar nombres para cada uno de ellos.\n",
        "Crea una lista con todos los nombres de 3 sílabas que se pueden formar con 10 consonantes y 5 vocales,\n",
        "de tal forma que se intercambien consonante y vocal, y no se repita ninguna letra en cada nombre.\n",
        "Al final muestra la cantidad de nombres de la lista y muestra 10 al azar.\n",
        "\n",
        "'''"
      ],
      "metadata": {
        "id": "T9PtyL-Cmh7A"
      },
      "execution_count": null,
      "outputs": []
    },
    {
      "cell_type": "code",
      "source": [
        "import random\n",
        "\n",
        "con=\"bhgkjmncxw\"\n",
        "vo=\"aeiou\"\n",
        "nombres=[]\n",
        "\n",
        "for c1 in con:\n",
        "  for v1 in vo:\n",
        "    for c2 in con:\n",
        "      for v2 in vo:\n",
        "        for c3 in con:\n",
        "          for v3 in vo:\n",
        "            if c1!=c2 and c1!=c3 and c2!=c3 and\\\n",
        "               v1!=v2 and v1!=v3 and v2!=v3:\n",
        "               nombre=c1+v1+c2+v2+c3+v3\n",
        "               nombres.append(nombre)\n",
        "               \n",
        "for i in range(1,11):\n",
        "  planeta=random.choice(nombres)\n",
        "  print(\"Planeta {} : {}\".format(i,planeta))"
      ],
      "metadata": {
        "colab": {
          "base_uri": "https://localhost:8080/"
        },
        "id": "U6o5_sFZkyBR",
        "outputId": "9dc6a979-477d-40e8-b83d-d8168eeb119e"
      },
      "execution_count": 22,
      "outputs": [
        {
          "output_type": "stream",
          "name": "stdout",
          "text": [
            "Planeta 1 : kobeju\n",
            "Planeta 2 : johake\n",
            "Planeta 3 : mokuwi\n",
            "Planeta 4 : wekoha\n",
            "Planeta 5 : megajo\n",
            "Planeta 6 : nowaxi\n",
            "Planeta 7 : gikobu\n",
            "Planeta 8 : xijoga\n",
            "Planeta 9 : nuwema\n",
            "Planeta 10 : buhoge\n"
          ]
        }
      ]
    },
    {
      "cell_type": "code",
      "source": [
        "\n",
        "'''\n",
        "En una lotería hay un bombo que tiene 10 bolas, con los números del 1 al 10.\n",
        "En un sorteo se sacan 5 bolas, sin que se introduzcan las bolas que se han sacado previamente. Haz un programa que muestre\n",
        "todas las apuestas posibles, es decir, todas las combinaciones posibles que se pueden dar en esa lotería.\n",
        "Incluye un contador para comprobar el número de combinaciones que se dan.\n",
        "\n",
        "'''\n",
        "\n",
        "import numpy as np\n",
        "num=np.arange(1,11)\n",
        "sorteo=[]\n",
        "cont=0\n",
        "for i in num:\n",
        "  for j in num:\n",
        "    for k in num:\n",
        "      for m in num:\n",
        "        for n in num:\n",
        "          if i!=j and i!=k and i!=m and i!=n and \\\n",
        "             j!=k and j!=m and j!=n and k!=m and \\\n",
        "             k!=n and m!=n:\n",
        "             sor=[i,j,k,m,n]\n",
        "             sor.sort()\n",
        "             if sor not in sorteo:\n",
        "              sorteo.append(sor)\n",
        "              cont+=1\n",
        "\n",
        "print(len(sorteo))\n"
      ],
      "metadata": {
        "colab": {
          "base_uri": "https://localhost:8080/"
        },
        "id": "gg_bwNF_ppqQ",
        "outputId": "00d198fb-8323-48a1-bb23-267f648b9b1c"
      },
      "execution_count": 33,
      "outputs": [
        {
          "output_type": "stream",
          "name": "stdout",
          "text": [
            "252\n"
          ]
        }
      ]
    },
    {
      "cell_type": "code",
      "source": [
        "'''\n",
        "Programa que adivina una clave mediante fuerza bruta.\n",
        "--> La clave consiste en 4 letras minúsculas<---\n",
        "'''\n",
        "\n",
        "import time\n",
        "\n",
        "clave=input(\"Dime una clave: \")\n",
        "\n",
        "alfabeto=\"abcdefghijklmnopqrstuvwxyz\"\n",
        "\n",
        "inicio=time.time()\n",
        "\n",
        "for c1 in alfabeto:\n",
        "  for c2 in alfabeto:\n",
        "    for c3 in alfabeto:\n",
        "      for c4 in alfabeto:\n",
        "        intento=c1+c2+c3+c4\n",
        "        if intento==clave:\n",
        "          print(\"Clave encontrada: \",intento)\n",
        "          \n",
        "\n",
        "\n",
        "final=time.time()\n",
        "\n",
        "print(\"Tiempo consumido: {:5.2f}\".format(final-inicio))\n"
      ],
      "metadata": {
        "colab": {
          "base_uri": "https://localhost:8080/"
        },
        "id": "EQwtnQR8rA8m",
        "outputId": "6a6e4b69-e4e2-4710-f991-7bfeab114cd4"
      },
      "execution_count": 51,
      "outputs": [
        {
          "output_type": "stream",
          "name": "stdout",
          "text": [
            "Dime una clave: sssh\n",
            "Clave encontrada:  sssh\n",
            "Tiempo consumido:  0.17\n"
          ]
        }
      ]
    },
    {
      "cell_type": "code",
      "source": [
        "'''\n",
        "\n",
        "Encontrar numeros repetidos\n",
        "\n",
        "'''\n",
        "\n",
        "numeros=[2,3,5,1,4,3,6,5,9,5,8]\n",
        "repetidos=[]\n",
        "\n",
        "for i in range(len(numeros)):\n",
        "  for j in range(len(numeros)):\n",
        "    if i!=j:\n",
        "      if numeros[i]==numeros[j] and numeros[i] not in repetidos:\n",
        "        repetidos.append(numeros[i])\n",
        "print(repetidos)\n",
        "archivo=[]\n",
        "\n",
        "for n in numeros:\n",
        "  if n not in archivo:\n",
        "    archivo.append(n)\n",
        "  else:\n",
        "    repetidos.append(n)\n",
        "\n",
        "print(repetidos)\n"
      ],
      "metadata": {
        "colab": {
          "base_uri": "https://localhost:8080/"
        },
        "id": "x5xb1wm1vVzk",
        "outputId": "42db55c6-2a0f-4104-ab1b-7962cdcc175e"
      },
      "execution_count": 73,
      "outputs": [
        {
          "output_type": "stream",
          "name": "stdout",
          "text": [
            "[3, 5]\n",
            "[3, 5, 3, 5, 5]\n",
            "[2, 3, 5, 1, 4, 6, 9, 8]\n"
          ]
        }
      ]
    },
    {
      "cell_type": "code",
      "source": [],
      "metadata": {
        "id": "UdPc69lcOMo8"
      },
      "execution_count": null,
      "outputs": []
    }
  ]
}